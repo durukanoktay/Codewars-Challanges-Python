{
 "cells": [
  {
   "cell_type": "code",
   "execution_count": 9,
   "id": "9526b2a9",
   "metadata": {},
   "outputs": [],
   "source": [
    "def productFib(prod):\n",
    "    fibar=[0,1]\n",
    "    i=0\n",
    "    while True:\n",
    "        if(fibar[i]*fibar[i+1]==prod):\n",
    "            setto=[fibar[i],fibar[i+1], True]\n",
    "            return setto\n",
    "        if (fibar[i]*fibar[i+1]>prod):\n",
    "            setto=[fibar[i],fibar[i+1], False]\n",
    "            return setto\n",
    "        else:\n",
    "            fibar.append(fibar[i]+fibar[i+1])\n",
    "            i +=1"
   ]
  }
 ],
 "metadata": {
  "kernelspec": {
   "display_name": "Python 3 (ipykernel)",
   "language": "python",
   "name": "python3"
  },
  "language_info": {
   "codemirror_mode": {
    "name": "ipython",
    "version": 3
   },
   "file_extension": ".py",
   "mimetype": "text/x-python",
   "name": "python",
   "nbconvert_exporter": "python",
   "pygments_lexer": "ipython3",
   "version": "3.9.13"
  }
 },
 "nbformat": 4,
 "nbformat_minor": 5
}
